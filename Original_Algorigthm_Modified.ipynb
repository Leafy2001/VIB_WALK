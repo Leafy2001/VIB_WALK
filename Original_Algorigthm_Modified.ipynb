{
 "cells": [
  {
   "cell_type": "code",
   "execution_count": 1,
   "id": "50b88fb6",
   "metadata": {},
   "outputs": [],
   "source": [
    "from PIL import Image;\n",
    "import numpy as np;\n",
    "import operator\n",
    "import matplotlib.pyplot as plt;\n",
    "import random;\n",
    "import math;\n",
    "import statistics"
   ]
  },
  {
   "cell_type": "code",
   "execution_count": 2,
   "id": "29e841e1",
   "metadata": {},
   "outputs": [],
   "source": [
    "D = (255**2)*3;\n",
    "\n",
    "def dist(PIX_A, PIX_B):\n",
    "    d = (PIX_A[0] - PIX_B[0])**2 + (PIX_A[1] - PIX_B[1])**2 + (PIX_A[2] - PIX_B[2])**2;\n",
    "    return math.sqrt(d/D);"
   ]
  },
  {
   "cell_type": "code",
   "execution_count": 3,
   "id": "a6538bc0",
   "metadata": {},
   "outputs": [],
   "source": [
    "TC = \"004\"\n",
    "Folder = \"001\""
   ]
  },
  {
   "cell_type": "code",
   "execution_count": 4,
   "id": "148d4e59",
   "metadata": {},
   "outputs": [],
   "source": [
    "# source_dir = \"Source_Images/source_\" + TC + \".JPG\"\n",
    "# source_image = Image.open(source_dir)\n",
    "# source_pix = source_image.load()\n",
    "\n",
    "source_dir = \"Source/\"+Folder+\"/source_\" + TC + \".JPG\"\n",
    "source_image = Image.open(source_dir)\n",
    "source_pix = source_image.load()"
   ]
  },
  {
   "cell_type": "code",
   "execution_count": 5,
   "id": "74e37f67",
   "metadata": {},
   "outputs": [],
   "source": [
    "# test_dir = \"Copied_Images/copy_\" + TC + \".JPG\"\n",
    "# test_image = Image.open(test_dir)\n",
    "# test_pix = test_image.load()\n",
    "\n",
    "test_dir = \"Copy/\"+Folder+\"/copy_\" + TC + \".JPG\"\n",
    "test_image = Image.open(test_dir)\n",
    "test_pix = test_image.load()"
   ]
  },
  {
   "cell_type": "code",
   "execution_count": 6,
   "id": "d3cfaae5",
   "metadata": {},
   "outputs": [
    {
     "data": {
      "text/plain": [
       "((710, 838), (286, 154))"
      ]
     },
     "execution_count": 6,
     "metadata": {},
     "output_type": "execute_result"
    }
   ],
   "source": [
    "source_image.size, test_image.size"
   ]
  },
  {
   "cell_type": "code",
   "execution_count": null,
   "id": "844316d0",
   "metadata": {},
   "outputs": [],
   "source": []
  },
  {
   "cell_type": "code",
   "execution_count": 7,
   "id": "56d6e02f",
   "metadata": {},
   "outputs": [],
   "source": [
    "spread = 5;\n",
    "\n",
    "# matrix = np.zeros((test_image.size[0], test_image.size[1]))\n",
    "start_points = []\n",
    "\n",
    "for i in range(0, test_image.size[0], 1):\n",
    "    for j in range(0, test_image.size[1], 1):\n",
    "        dissimilarity = 0;\n",
    "        ct = 0;\n",
    "        for k in range(i-spread, i+spread+1, 1):\n",
    "            for l in range(j-spread, j+spread+1, 1):\n",
    "                if(k == i and j == l):\n",
    "                    continue;\n",
    "                if(k < 0 or k >= test_image.size[0] or l < 0 or l >= test_image.size[1]):\n",
    "                    continue;\n",
    "                dissimilarity += dist(test_pix[k, l], test_pix[i, j]);\n",
    "        \n",
    "#         Diss = dissimilarity/ct;\n",
    "#         matrix[i][j] = dissimilarity * statistics.variance(test_pix[i, j]);\n",
    "        Diss = dissimilarity ;\n",
    "        Diss = round(Diss, 2)\n",
    "        start_points.append([Diss, i, j]);\n",
    "\n",
    "start_points = sorted(start_points, key = operator.itemgetter(0));\n",
    "start_points.reverse()"
   ]
  },
  {
   "cell_type": "code",
   "execution_count": 8,
   "id": "873c0311",
   "metadata": {},
   "outputs": [
    {
     "data": {
      "text/plain": [
       "[106.34, 75, 116]"
      ]
     },
     "execution_count": 8,
     "metadata": {},
     "output_type": "execute_result"
    }
   ],
   "source": [
    "start_points[0]"
   ]
  },
  {
   "cell_type": "code",
   "execution_count": 9,
   "id": "ed2fdf11",
   "metadata": {
    "scrolled": true
   },
   "outputs": [
    {
     "data": {
      "text/plain": [
       "44044"
      ]
     },
     "execution_count": 9,
     "metadata": {},
     "output_type": "execute_result"
    }
   ],
   "source": [
    "len(start_points)"
   ]
  },
  {
   "cell_type": "code",
   "execution_count": 10,
   "id": "10299d98",
   "metadata": {},
   "outputs": [],
   "source": [
    "PTS = 100;\n",
    "D = 5;\n",
    "\n",
    "for i in range(0, PTS, 1):\n",
    "    X = start_points[i][1];\n",
    "    Y = start_points[i][2];\n",
    "    \n",
    "#     test_pix[X, Y] = (0, 0, 0);\n",
    "    for j in range(X - D, X + D + 1, 1):\n",
    "        for k in range(Y - D, Y + D + 1, 1):\n",
    "            test_pix[j, k] = (0, 0, 0);\n",
    "    \n",
    "test_image.save(\"W.jpg\")"
   ]
  },
  {
   "cell_type": "code",
   "execution_count": 11,
   "id": "4c4fba07",
   "metadata": {},
   "outputs": [],
   "source": [
    "# LMT = 100;\n",
    "# x = np.arange(0, LMT, 1)\n",
    "# y = [];\n",
    "# for i in range(0, LMT, 1):\n",
    "#     y.append(start_points[i][0])\n",
    "# plt.plot(x, y)"
   ]
  },
  {
   "cell_type": "code",
   "execution_count": 12,
   "id": "d1ffdc81",
   "metadata": {},
   "outputs": [],
   "source": [
    "# start_points = start_points[:100]\n",
    "# len(start_points)"
   ]
  },
  {
   "cell_type": "code",
   "execution_count": 13,
   "id": "5491ce9c",
   "metadata": {},
   "outputs": [],
   "source": [
    "# fig = plt.figure(figsize = (10,10)) \n",
    "# plt.imshow( matrix , cmap = 'copper' , interpolation = 'nearest')\n",
    "# plt.show()"
   ]
  },
  {
   "cell_type": "code",
   "execution_count": 14,
   "id": "4fbb0d67",
   "metadata": {},
   "outputs": [],
   "source": [
    "class Path:\n",
    "    def __init__(self):\n",
    "        self.points = [];\n",
    "        self.score = [];\n",
    "        self.agg_score = -1;"
   ]
  },
  {
   "cell_type": "code",
   "execution_count": 15,
   "id": "9944f439",
   "metadata": {},
   "outputs": [],
   "source": [
    "def aggregate_score(scores):\n",
    "    if(len(scores) == 0): return 0;\n",
    "    if(scores[-1] == -1): return -1;\n",
    "    random.shuffle(scores);\n",
    "    total_buckets = 100;\n",
    "    max_bucket_size = len(scores)/total_buckets;\n",
    "    buckets = [];\n",
    "    curr_size = 0;\n",
    "    curr_sum = 0;\n",
    "    for sc in scores:\n",
    "        curr_size += 1;\n",
    "        curr_sum += sc;\n",
    "        if(curr_size == max_bucket_size):\n",
    "            buckets.append(curr_sum/curr_size);\n",
    "            curr_sum = 0;\n",
    "            curr_size = 0;\n",
    "    if(curr_size > 0):\n",
    "        buckets.append(curr_sum/curr_size);\n",
    "    \n",
    "    return statistics.median(buckets);"
   ]
  },
  {
   "cell_type": "code",
   "execution_count": 16,
   "id": "a88366b8",
   "metadata": {},
   "outputs": [],
   "source": [
    "ans = Path();\n",
    "ans.agg_score = -1;"
   ]
  },
  {
   "cell_type": "code",
   "execution_count": 17,
   "id": "159dff92",
   "metadata": {},
   "outputs": [],
   "source": [
    "MAX_STEP = 10;\n",
    "MAX_STEP = math.floor(min(test_image.size[0], test_image.size[1])/10);"
   ]
  },
  {
   "cell_type": "code",
   "execution_count": 18,
   "id": "c25a671b",
   "metadata": {},
   "outputs": [],
   "source": []
  },
  {
   "cell_type": "code",
   "execution_count": 19,
   "id": "38466363",
   "metadata": {},
   "outputs": [
    {
     "data": {
      "text/plain": [
       "15"
      ]
     },
     "execution_count": 19,
     "metadata": {},
     "output_type": "execute_result"
    }
   ],
   "source": [
    "MAX_STEP"
   ]
  },
  {
   "cell_type": "code",
   "execution_count": 20,
   "id": "c915fee7",
   "metadata": {},
   "outputs": [
    {
     "data": {
      "text/plain": [
       "44044"
      ]
     },
     "execution_count": 20,
     "metadata": {},
     "output_type": "execute_result"
    }
   ],
   "source": [
    "len(start_points)"
   ]
  },
  {
   "cell_type": "code",
   "execution_count": 21,
   "id": "22402357",
   "metadata": {},
   "outputs": [],
   "source": [
    "def centroid_calculation(pts):\n",
    "    n = len(pts);\n",
    "    if(n == 0): return [0, 0];\n",
    "    \n",
    "    x_sum, y_sum = 0, 0;\n",
    "    for pt in pts:\n",
    "        x_sum += pt[0];\n",
    "        y_sum += pt[1];\n",
    "    \n",
    "    x_c = round(x_sum/n, 2);\n",
    "    y_c = round(y_sum/n, 2);\n",
    "    \n",
    "    return [x_c, y_c];"
   ]
  },
  {
   "cell_type": "code",
   "execution_count": 22,
   "id": "6217860b",
   "metadata": {},
   "outputs": [],
   "source": [
    "# pts = [[0, 1], [5, 6], [12, 23], [78, 19]]\n",
    "# centroid_calculation(pts)"
   ]
  },
  {
   "cell_type": "code",
   "execution_count": 30,
   "id": "26ff31f9",
   "metadata": {},
   "outputs": [],
   "source": [
    "RANDOM_WALK_LEN = 100;"
   ]
  },
  {
   "cell_type": "code",
   "execution_count": 31,
   "id": "2feaa45a",
   "metadata": {},
   "outputs": [
    {
     "name": "stdout",
     "output_type": "stream",
     "text": [
      "ITR:  1\n",
      "ITR:  2\n",
      "ITR:  3\n",
      "ITR:  4\n",
      "ITR:  5\n",
      "ITR:  6\n",
      "ITR:  7\n",
      "ITR:  8\n",
      "ITR:  9\n",
      "ITR:  10\n",
      "ITR:  11\n",
      "ITR:  12\n",
      "ITR:  13\n",
      "ITR:  14\n",
      "ITR:  15\n",
      "ITR:  16\n",
      "ITR:  17\n",
      "ITR:  18\n",
      "ITR:  19\n",
      "ITR:  20\n",
      "ITR:  21\n",
      "ITR:  22\n",
      "ITR:  23\n",
      "ITR:  24\n",
      "ITR:  25\n",
      "ITR:  26\n",
      "ITR:  27\n",
      "ITR:  28\n",
      "ITR:  29\n",
      "ITR:  30\n",
      "ITR:  31\n",
      "ITR:  32\n",
      "ITR:  33\n",
      "ITR:  34\n",
      "ITR:  35\n",
      "ITR:  36\n",
      "ITR:  37\n",
      "ITR:  38\n",
      "ITR:  39\n",
      "ITR:  40\n",
      "ITR:  41\n",
      "ITR:  42\n",
      "ITR:  43\n",
      "ITR:  44\n",
      "ITR:  45\n",
      "ITR:  46\n",
      "ITR:  47\n",
      "ITR:  48\n",
      "ITR:  49\n",
      "ITR:  50\n",
      "ITR:  51\n",
      "ITR:  52\n",
      "ITR:  53\n",
      "ITR:  54\n",
      "ITR:  55\n",
      "ITR:  56\n",
      "ITR:  57\n",
      "ITR:  58\n",
      "ITR:  59\n",
      "ITR:  60\n",
      "ITR:  61\n",
      "ITR:  62\n",
      "ITR:  63\n",
      "ITR:  64\n",
      "ITR:  65\n",
      "ITR:  66\n",
      "ITR:  67\n",
      "ITR:  68\n",
      "ITR:  69\n",
      "ITR:  70\n",
      "ITR:  71\n",
      "ITR:  72\n",
      "ITR:  73\n",
      "ITR:  74\n",
      "ITR:  75\n",
      "ITR:  76\n",
      "ITR:  77\n",
      "ITR:  78\n",
      "ITR:  79\n",
      "ITR:  80\n",
      "ITR:  81\n",
      "ITR:  82\n",
      "ITR:  83\n",
      "ITR:  84\n",
      "ITR:  85\n",
      "ITR:  86\n",
      "ITR:  87\n",
      "ITR:  88\n",
      "ITR:  89\n",
      "ITR:  90\n",
      "ITR:  91\n",
      "ITR:  92\n",
      "ITR:  93\n",
      "ITR:  94\n",
      "ITR:  95\n",
      "ITR:  96\n",
      "ITR:  97\n",
      "ITR:  98\n",
      "ITR:  99\n",
      "ITR:  100\n"
     ]
    }
   ],
   "source": [
    "ITR_LIMIT = 100;\n",
    "\n",
    "paths = [];\n",
    "for i in range(0, 100, 1):\n",
    "    p = Path();\n",
    "    paths.append(p);\n",
    "\n",
    "\n",
    "for START in range(0, ITR_LIMIT, 1):\n",
    "    print(\"ITR: \", START+1);\n",
    "#     print(paths[0].score)\n",
    "    start_X = start_points[START][1];\n",
    "    start_Y = start_points[START][2];\n",
    "\n",
    "    v = []\n",
    "    for i in range(0, source_image.size[0], 1):\n",
    "        for j in range(0, source_image.size[1], 1):\n",
    "            d = dist(test_pix[start_X, start_Y], source_pix[i,j]);\n",
    "            v.append([d, i, j]);\n",
    "\n",
    "    v = sorted(v, key = operator.itemgetter(0));\n",
    "    v = v[:100]\n",
    "    \n",
    "    paths = sorted(paths, key=lambda x: aggregate_score(x.score), reverse=True);\n",
    "    \n",
    "    visited = [False] * len(v);\n",
    "    for i in range(0, len(paths), 1):\n",
    "        if(len(paths[i].score) > 0 and paths[i].score[-1] == -1):\n",
    "            continue;\n",
    "            \n",
    "        cen = centroid_calculation(paths[i].points);\n",
    "        \n",
    "        min_dis = -1;\n",
    "        min_dis_id = -1;\n",
    "        \n",
    "        for j in range(0, len(v), 1):\n",
    "            if(visited[j] == True): continue;\n",
    "            D = (v[j][1] - cen[0])**2 + (v[j][2] - cen[1])**2;\n",
    "            if(min_dis == -1 or min_dis > D):\n",
    "                min_dis = D;\n",
    "                min_dis_id = j;\n",
    "        \n",
    "        paths[i].points.append([v[min_dis_id][1], v[min_dis_id][2]]);\n",
    "        paths[i].score.append(v[min_dis_id][0]);\n",
    "        visited[min_dis_id] = True;\n",
    "    \n",
    "#     for i in range(0, len(v), 1):\n",
    "#         if(len(paths[i].score) > 0 and paths[i].score[-1] == -1):\n",
    "#             continue;\n",
    "#         paths[i].points.append([v[i][1], v[i][2]]);\n",
    "#         paths[i].score.append(v[i][0]);\n",
    "    \n",
    "    curr_X = start_X;\n",
    "    curr_Y = start_Y;\n",
    "\n",
    "    for itr in range(0, RANDOM_WALK_LEN, 1):\n",
    "        step_X = random.randint(1, MAX_STEP);\n",
    "        step_Y = random.randint(1, MAX_STEP);\n",
    "        \n",
    "        off_X = random.randint(0, 1);\n",
    "        off_Y = random.randint(0, 1);\n",
    "\n",
    "        if(off_X == 0): off_X = -1;\n",
    "        if(off_Y == 0): off_Y = -1;\n",
    "\n",
    "        curr_X = curr_X + off_X * step_X;\n",
    "        curr_Y = curr_Y + off_Y * step_Y;\n",
    "\n",
    "        if(curr_X < 0 or curr_X >= test_image.size[0] or curr_Y < 0 or curr_Y >= test_image.size[1]):\n",
    "            curr_X = curr_X - off_X * step_X;\n",
    "            curr_Y = curr_Y - off_Y * step_Y;\n",
    "            continue;\n",
    "\n",
    "        img_RGB = test_pix[curr_X, curr_Y];\n",
    "\n",
    "        for i in range(0, len(paths), 1):\n",
    "            if(paths[i].score[-1] == -1):continue;\n",
    "            last_X = paths[i].points[-1][0];\n",
    "            last_Y = paths[i].points[-1][1];\n",
    "\n",
    "            new_X = last_X + off_X * step_X;\n",
    "            new_Y = last_Y + off_Y * step_Y;\n",
    "\n",
    "            if(new_X < 0 or new_X >= source_image.size[0] or new_Y == 0 or new_Y >= source_image.size[1]):\n",
    "                paths[i].score.append(-1);\n",
    "                continue;\n",
    "\n",
    "            d = dist(img_RGB, source_pix[new_X, new_Y]);\n",
    "\n",
    "            paths[i].score.append(d);\n",
    "            paths[i].points.append([new_X, new_Y]);"
   ]
  },
  {
   "cell_type": "code",
   "execution_count": 32,
   "id": "810cd80c",
   "metadata": {},
   "outputs": [],
   "source": [
    "for p in paths:\n",
    "    if(p.score[-1] == -1):\n",
    "        continue;\n",
    "\n",
    "    p.agg_score = aggregate_score(p.score);\n",
    "    if(p.agg_score < ans.agg_score or ans.agg_score == -1):\n",
    "        ans = p;"
   ]
  },
  {
   "cell_type": "code",
   "execution_count": 33,
   "id": "8e7ae3a8",
   "metadata": {},
   "outputs": [
    {
     "data": {
      "text/plain": [
       "100"
      ]
     },
     "execution_count": 33,
     "metadata": {},
     "output_type": "execute_result"
    }
   ],
   "source": [
    "len(paths)"
   ]
  },
  {
   "cell_type": "code",
   "execution_count": null,
   "id": "6e917d6c",
   "metadata": {},
   "outputs": [],
   "source": []
  },
  {
   "cell_type": "code",
   "execution_count": 34,
   "id": "12f62bbd",
   "metadata": {
    "scrolled": true
   },
   "outputs": [],
   "source": [
    "# LMT = 100;\n",
    "# x = np.arange(0, LMT, 1)\n",
    "# y = [];\n",
    "# for i in range(0, LMT, 1):\n",
    "#     y.append(v[i][0])\n",
    "# plt.plot(x, y)"
   ]
  },
  {
   "cell_type": "code",
   "execution_count": null,
   "id": "832b8aae",
   "metadata": {},
   "outputs": [],
   "source": []
  },
  {
   "cell_type": "code",
   "execution_count": null,
   "id": "1e1603ce",
   "metadata": {},
   "outputs": [],
   "source": []
  },
  {
   "cell_type": "code",
   "execution_count": null,
   "id": "931635f1",
   "metadata": {},
   "outputs": [],
   "source": []
  },
  {
   "cell_type": "code",
   "execution_count": 27,
   "id": "695b6ad1",
   "metadata": {},
   "outputs": [],
   "source": [
    "# output_dir = \"Results/result_\" + TC + \".jpg\";\n",
    "# for i in range(0, len(ans.points), 1):\n",
    "# #     print(final_P.points[i]);\n",
    "#     source_pix[ans.points[i][0], ans.points[i][1]] = (0, 0, 0)\n",
    "\n",
    "# source_image.save(output_dir)\n",
    "\n",
    "output_dir = \"New_Results/\" + Folder + \"/result_\"+ TC + \".jpg\";\n",
    "for i in range(0, len(ans.points), 1):\n",
    "#     print(final_P.points[i]);\n",
    "    source_pix[ans.points[i][0], ans.points[i][1]] = (0, 0, 0)\n",
    "\n",
    "source_image.save(output_dir)"
   ]
  },
  {
   "cell_type": "code",
   "execution_count": 28,
   "id": "743a57c9",
   "metadata": {},
   "outputs": [
    {
     "data": {
      "text/plain": [
       "0.418291536215994"
      ]
     },
     "execution_count": 28,
     "metadata": {},
     "output_type": "execute_result"
    }
   ],
   "source": [
    "ans.agg_score"
   ]
  },
  {
   "cell_type": "code",
   "execution_count": 29,
   "id": "a9f20be0",
   "metadata": {},
   "outputs": [
    {
     "data": {
      "text/plain": [
       "0.581708463784006"
      ]
     },
     "execution_count": 29,
     "metadata": {},
     "output_type": "execute_result"
    }
   ],
   "source": [
    "1 - ans.agg_score"
   ]
  },
  {
   "cell_type": "code",
   "execution_count": null,
   "id": "79b2e6d9",
   "metadata": {},
   "outputs": [],
   "source": []
  },
  {
   "cell_type": "code",
   "execution_count": null,
   "id": "9d8f7212",
   "metadata": {},
   "outputs": [],
   "source": []
  },
  {
   "cell_type": "code",
   "execution_count": null,
   "id": "2a4d4c75",
   "metadata": {},
   "outputs": [],
   "source": []
  },
  {
   "cell_type": "code",
   "execution_count": null,
   "id": "5ae495b2",
   "metadata": {},
   "outputs": [],
   "source": []
  },
  {
   "cell_type": "code",
   "execution_count": null,
   "id": "330d14a0",
   "metadata": {},
   "outputs": [],
   "source": []
  },
  {
   "cell_type": "code",
   "execution_count": null,
   "id": "20328be7",
   "metadata": {},
   "outputs": [],
   "source": []
  },
  {
   "cell_type": "code",
   "execution_count": null,
   "id": "494f8317",
   "metadata": {},
   "outputs": [],
   "source": []
  },
  {
   "cell_type": "code",
   "execution_count": null,
   "id": "5eb0d1f0",
   "metadata": {},
   "outputs": [],
   "source": []
  },
  {
   "cell_type": "code",
   "execution_count": null,
   "id": "d92347a5",
   "metadata": {},
   "outputs": [],
   "source": []
  }
 ],
 "metadata": {
  "kernelspec": {
   "display_name": "Python 3",
   "language": "python",
   "name": "python3"
  },
  "language_info": {
   "codemirror_mode": {
    "name": "ipython",
    "version": 3
   },
   "file_extension": ".py",
   "mimetype": "text/x-python",
   "name": "python",
   "nbconvert_exporter": "python",
   "pygments_lexer": "ipython3",
   "version": "3.8.8"
  }
 },
 "nbformat": 4,
 "nbformat_minor": 5
}
