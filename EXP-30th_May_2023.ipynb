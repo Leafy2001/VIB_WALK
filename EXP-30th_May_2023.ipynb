{
 "cells": [
  {
   "cell_type": "code",
   "execution_count": 1,
   "id": "50b88fb6",
   "metadata": {},
   "outputs": [],
   "source": [
    "from PIL import Image;\n",
    "import numpy as np;\n",
    "import operator\n",
    "import matplotlib.pyplot as plt;\n",
    "import random;\n",
    "import math;\n",
    "import statistics"
   ]
  },
  {
   "cell_type": "code",
   "execution_count": 2,
   "id": "29e841e1",
   "metadata": {},
   "outputs": [],
   "source": [
    "D = (255**2)*3;\n",
    "\n",
    "def dist(PIX_A, PIX_B):\n",
    "    d = (PIX_A[0] - PIX_B[0])**2 + (PIX_A[1] - PIX_B[1])**2 + (PIX_A[2] - PIX_B[2])**2;\n",
    "    return math.sqrt(d/D);"
   ]
  },
  {
   "cell_type": "code",
   "execution_count": 3,
   "id": "a6538bc0",
   "metadata": {},
   "outputs": [],
   "source": [
    "TC = \"004\""
   ]
  },
  {
   "cell_type": "code",
   "execution_count": 4,
   "id": "148d4e59",
   "metadata": {},
   "outputs": [],
   "source": [
    "source_dir = \"Source_Images/source_\" + TC + \".JPG\"\n",
    "source_image = Image.open(source_dir)\n",
    "source_pix = source_image.load()"
   ]
  },
  {
   "cell_type": "code",
   "execution_count": 5,
   "id": "74e37f67",
   "metadata": {},
   "outputs": [],
   "source": [
    "test_dir = \"Copied_Images/copy_\" + TC + \".JPG\"\n",
    "test_image = Image.open(test_dir)\n",
    "test_pix = test_image.load()"
   ]
  },
  {
   "cell_type": "code",
   "execution_count": 6,
   "id": "d3cfaae5",
   "metadata": {},
   "outputs": [
    {
     "data": {
      "text/plain": [
       "((1413, 959), (630, 402))"
      ]
     },
     "execution_count": 6,
     "metadata": {},
     "output_type": "execute_result"
    }
   ],
   "source": [
    "source_image.size, test_image.size"
   ]
  },
  {
   "cell_type": "code",
   "execution_count": 7,
   "id": "844316d0",
   "metadata": {},
   "outputs": [],
   "source": [
    "# spread = 5;\n",
    "# for k in range(1, spread+1, 1):\n",
    "#     for l in range(0, k, 1):\n",
    "#         A = l;\n",
    "#         B = k - l;\n",
    "#         print(A, B, A, -B, -B, -A, B, -A)"
   ]
  },
  {
   "cell_type": "code",
   "execution_count": null,
   "id": "901049a0",
   "metadata": {},
   "outputs": [],
   "source": []
  },
  {
   "cell_type": "code",
   "execution_count": 8,
   "id": "56d6e02f",
   "metadata": {},
   "outputs": [],
   "source": [
    "spread = 1;\n",
    "\n",
    "matrix = np.zeros((test_image.size[0], test_image.size[1]))\n",
    "start_points = []\n",
    "\n",
    "for i in range(0, test_image.size[0], 1):\n",
    "    for j in range(0, test_image.size[1], 1):\n",
    "        dissimilarity = 0;\n",
    "        ct = 0;\n",
    "        for k in range(i-spread, i+spread+1, 1):\n",
    "            for l in range(j-spread, j+spread+1, 1):\n",
    "                if(k == i and j == l):\n",
    "                    continue;\n",
    "                if(k < 0 or k >= test_image.size[0] or l < 0 or l >= test_image.size[1]):\n",
    "                    continue;\n",
    "                dissimilarity += dist(test_pix[k, l], test_pix[i, j]);\n",
    "        \n",
    "#         Diss = dissimilarity/ct;\n",
    "        matrix[i][j] = dissimilarity * statistics.variance(test_pix[i, j]);\n",
    "        \n",
    "        start_points.append([dissimilarity, i, j]);\n",
    "\n",
    "start_points = sorted(start_points, key = operator.itemgetter(0));\n",
    "start_points.reverse()"
   ]
  },
  {
   "cell_type": "code",
   "execution_count": 9,
   "id": "ed2fdf11",
   "metadata": {},
   "outputs": [
    {
     "data": {
      "text/plain": [
       "253260"
      ]
     },
     "execution_count": 9,
     "metadata": {},
     "output_type": "execute_result"
    }
   ],
   "source": [
    "len(start_points)"
   ]
  },
  {
   "cell_type": "code",
   "execution_count": 10,
   "id": "03d8737d",
   "metadata": {},
   "outputs": [
    {
     "name": "stdout",
     "output_type": "stream",
     "text": [
      "25326\n"
     ]
    }
   ],
   "source": [
    "LMT = 0;\n",
    "MARK_POINTS = math.floor((len(start_points)*10)/100)\n",
    "print(MARK_POINTS)\n",
    "for i in range(0, MARK_POINTS, 1):\n",
    "    X = start_points[i][1];\n",
    "    Y = start_points[i][2];\n",
    "    for j in range(X-LMT, X+LMT+1, 1):\n",
    "        for k in range(Y - LMT, Y + LMT+1, 1):\n",
    "            if(j < 0 or j >= test_image.size[0] or k < 0 or k >= test_image.size[1]):\n",
    "                continue;\n",
    "            test_pix[j, k] = (0, 0, 0);\n",
    "\n",
    "test_image.save(\"W.jpg\")"
   ]
  },
  {
   "cell_type": "code",
   "execution_count": 11,
   "id": "b2055aa9",
   "metadata": {},
   "outputs": [],
   "source": [
    "vibrant_points = start_points[:MARK_POINTS]"
   ]
  },
  {
   "cell_type": "code",
   "execution_count": null,
   "id": "9ce2b082",
   "metadata": {},
   "outputs": [],
   "source": []
  },
  {
   "cell_type": "code",
   "execution_count": null,
   "id": "53a3a93b",
   "metadata": {},
   "outputs": [],
   "source": []
  },
  {
   "cell_type": "code",
   "execution_count": null,
   "id": "4c4fba07",
   "metadata": {},
   "outputs": [],
   "source": []
  },
  {
   "cell_type": "code",
   "execution_count": 12,
   "id": "4fbb0d67",
   "metadata": {},
   "outputs": [],
   "source": [
    "class Path:\n",
    "    def __init__(self):\n",
    "        self.points = [];\n",
    "        self.score = [];\n",
    "        self.agg_score = -1;"
   ]
  },
  {
   "cell_type": "code",
   "execution_count": 13,
   "id": "9944f439",
   "metadata": {},
   "outputs": [],
   "source": [
    "def aggregate_score(scores):\n",
    "    return statistics.median(scores)\n",
    "    random.shuffle(scores);\n",
    "    total_buckets = 100;\n",
    "    max_bucket_size = len(scores)/total_buckets;\n",
    "    buckets = [];\n",
    "    curr_size = 0;\n",
    "    curr_sum = 0;\n",
    "    for sc in scores:\n",
    "        curr_size += 1;\n",
    "        curr_sum += sc;\n",
    "        if(curr_size == max_bucket_size):\n",
    "            buckets.append(curr_sum/curr_size);\n",
    "            curr_sum = 0;\n",
    "            curr_size = 0;\n",
    "    if(curr_size > 0):\n",
    "        buckets.append(curr_sum/curr_size);\n",
    "    \n",
    "    return statistics.median(buckets);"
   ]
  },
  {
   "cell_type": "code",
   "execution_count": 14,
   "id": "a88366b8",
   "metadata": {},
   "outputs": [],
   "source": [
    "ans = Path();\n",
    "ans.agg_score = -1;"
   ]
  },
  {
   "cell_type": "code",
   "execution_count": 15,
   "id": "159dff92",
   "metadata": {},
   "outputs": [],
   "source": [
    "# MAX_STEP = 10;\n",
    "# MAX_STEP = math.floor(min(test_image.size[0], test_image.size[1])/10);"
   ]
  },
  {
   "cell_type": "code",
   "execution_count": 16,
   "id": "c25a671b",
   "metadata": {},
   "outputs": [],
   "source": [
    "# RANDOM_WALK_LEN = 10000;"
   ]
  },
  {
   "cell_type": "code",
   "execution_count": 17,
   "id": "38466363",
   "metadata": {},
   "outputs": [],
   "source": [
    "# MAX_STEP"
   ]
  },
  {
   "cell_type": "code",
   "execution_count": null,
   "id": "79b2e6d9",
   "metadata": {},
   "outputs": [],
   "source": []
  },
  {
   "cell_type": "code",
   "execution_count": 18,
   "id": "8a81da31",
   "metadata": {},
   "outputs": [
    {
     "data": {
      "text/plain": [
       "(99, (98, 97, 102), 2.6457513110645907)"
      ]
     },
     "execution_count": 18,
     "metadata": {},
     "output_type": "execute_result"
    }
   ],
   "source": [
    "statistics.mean(source_pix[0, 1]), source_pix[0, 1], statistics.stdev(source_pix[0, 1])"
   ]
  },
  {
   "cell_type": "code",
   "execution_count": 19,
   "id": "1c1c0e99",
   "metadata": {},
   "outputs": [],
   "source": [
    "source_points = [];\n",
    "\n",
    "for i in range(0, source_image.size[0], 1):\n",
    "    for j in range(0, source_image.size[1], 1):\n",
    "        mn = statistics.mean(source_pix[i, j]);\n",
    "        mn = round(mn, 2)\n",
    "        source_points.append([mn, i, j]);\n",
    "\n",
    "source_points = sorted(source_points, key = operator.itemgetter(0));"
   ]
  },
  {
   "cell_type": "code",
   "execution_count": 20,
   "id": "870f5e07",
   "metadata": {},
   "outputs": [
    {
     "data": {
      "text/plain": [
       "1355067"
      ]
     },
     "execution_count": 20,
     "metadata": {},
     "output_type": "execute_result"
    }
   ],
   "source": [
    "len(source_points)"
   ]
  },
  {
   "cell_type": "code",
   "execution_count": 21,
   "id": "9d8f7212",
   "metadata": {},
   "outputs": [],
   "source": [
    "def get_start_points(mn):\n",
    "    mn = round(mn, 2)\n",
    "    lower_lmt = round(mn - (mn * 20/100), 2);\n",
    "    upper_lmt = round(mn + (mn * 20/100), 2);\n",
    "    \n",
    "    A, B = len(source_points), -1;\n",
    "    l, r = 0, len(source_points)-1;\n",
    "    while(l <= r):\n",
    "        mid = math.floor(l + (r - l)/2);\n",
    "        source_point_mn = source_points[mid][0];\n",
    "        if(source_point_mn >= lower_lmt and source_point_mn <= upper_lmt):\n",
    "            A = mid;\n",
    "            r = mid-1;\n",
    "        elif(source_point_mn < lower_lmt):\n",
    "            l = mid+1;\n",
    "        else:\n",
    "            r = mid-1;\n",
    "    \n",
    "    l, r = 0, len(source_points)-1;\n",
    "    while(l <= r):\n",
    "        mid = math.floor(l + (r - l)/2);\n",
    "        source_point_mn = source_points[mid][0];\n",
    "        if(source_point_mn >= lower_lmt and source_point_mn <= upper_lmt):\n",
    "            B = mid;\n",
    "            l = mid+1;\n",
    "        elif(source_point_mn < lower_lmt):\n",
    "            l = mid+1;\n",
    "        else:\n",
    "            r = mid-1;\n",
    "    \n",
    "#     print(lower_lmt, upper_lmt)\n",
    "#     print(A, B)\n",
    "    return source_points[A: B+1];\n",
    "\n",
    "source_start_points = get_start_points(vibrant_points[0][0]);"
   ]
  },
  {
   "cell_type": "code",
   "execution_count": null,
   "id": "33973f62",
   "metadata": {},
   "outputs": [],
   "source": []
  },
  {
   "cell_type": "code",
   "execution_count": 22,
   "id": "4549d371",
   "metadata": {},
   "outputs": [
    {
     "data": {
      "text/plain": [
       "(1572, 25326)"
      ]
     },
     "execution_count": 22,
     "metadata": {},
     "output_type": "execute_result"
    }
   ],
   "source": [
    "len(source_start_points), len(vibrant_points)"
   ]
  },
  {
   "cell_type": "code",
   "execution_count": 23,
   "id": "80c73912",
   "metadata": {},
   "outputs": [],
   "source": [
    "# vibrant_points[0]"
   ]
  },
  {
   "cell_type": "code",
   "execution_count": 24,
   "id": "756834f6",
   "metadata": {},
   "outputs": [],
   "source": [
    "paths = [];\n",
    "\n",
    "for i in range(0, len(source_start_points), 1):\n",
    "    dis = dist(source_pix[source_start_points[i][1], source_start_points[i][2]], \n",
    "               test_pix[vibrant_points[0][1], vibrant_points[0][2]])\n",
    "    p = Path();\n",
    "    p.points.append([source_start_points[i][1], source_start_points[i][2]]);\n",
    "    p.score.append(dis);\n",
    "    paths.append(p);"
   ]
  },
  {
   "cell_type": "code",
   "execution_count": 25,
   "id": "5047e6b2",
   "metadata": {},
   "outputs": [
    {
     "data": {
      "text/plain": [
       "[0.023529411764705882]"
      ]
     },
     "execution_count": 25,
     "metadata": {},
     "output_type": "execute_result"
    }
   ],
   "source": [
    "paths[1370].score"
   ]
  },
  {
   "cell_type": "code",
   "execution_count": null,
   "id": "7837d68a",
   "metadata": {},
   "outputs": [],
   "source": []
  },
  {
   "cell_type": "code",
   "execution_count": null,
   "id": "2a4d4c75",
   "metadata": {},
   "outputs": [],
   "source": []
  },
  {
   "cell_type": "code",
   "execution_count": 26,
   "id": "5ae495b2",
   "metadata": {},
   "outputs": [],
   "source": [
    "for i in range(1, 10000, 1):\n",
    "    \n",
    "    X_offset_vib = vibrant_points[0][1] - vibrant_points[i-1][1];\n",
    "    Y_offset_vib = vibrant_points[0][2] - vibrant_points[i-1][2];\n",
    "    \n",
    "    for j in range(0, len(paths), 1):\n",
    "        if(paths[j].score[-1] == -1):\n",
    "            continue;\n",
    "            \n",
    "        prev_X = paths[0].points[-1][0];\n",
    "        prev_Y = paths[0].points[-1][1];\n",
    "        \n",
    "        new_X = prev_X + X_offset_vib;\n",
    "        new_Y = prev_Y + Y_offset_vib;\n",
    "        \n",
    "        if(new_X >= source_image.size[0] or new_X < 0 or new_Y < 0 or new_Y >= source_image.size[1]):\n",
    "            paths[j].score.append(-1);\n",
    "            continue;\n",
    "        \n",
    "        dis = dist(source_pix[new_X, new_Y], test_pix[vibrant_points[i][1], vibrant_points[i][2]]);\n",
    "        paths[j].points.append([new_X, new_Y]);\n",
    "        paths[j].score.append(dis);"
   ]
  },
  {
   "cell_type": "code",
   "execution_count": null,
   "id": "bb4a2d5d",
   "metadata": {},
   "outputs": [],
   "source": []
  },
  {
   "cell_type": "code",
   "execution_count": 27,
   "id": "cd619e29",
   "metadata": {},
   "outputs": [],
   "source": [
    "for i in range(0, len(paths), 1):\n",
    "    if(paths[i].score[-1] == -1):\n",
    "        continue;\n",
    "    paths[i].agg_score = aggregate_score(paths[i].score);\n",
    "    "
   ]
  },
  {
   "cell_type": "code",
   "execution_count": 28,
   "id": "379f5ac5",
   "metadata": {},
   "outputs": [],
   "source": [
    "ans = Path();\n",
    "ans.agg_score = -1;\n",
    "\n",
    "for i in range(0, len(paths), 1):\n",
    "    if(paths[i].score[-1] == -1):\n",
    "        continue;\n",
    "    \n",
    "    if(ans.agg_score == -1 or ans.agg_score > paths[i].agg_score):\n",
    "        ans = paths[i]\n",
    "        "
   ]
  },
  {
   "cell_type": "code",
   "execution_count": 29,
   "id": "cf2cd79d",
   "metadata": {},
   "outputs": [
    {
     "data": {
      "text/plain": [
       "-1"
      ]
     },
     "execution_count": 29,
     "metadata": {},
     "output_type": "execute_result"
    }
   ],
   "source": [
    "ans.agg_score"
   ]
  },
  {
   "cell_type": "code",
   "execution_count": 30,
   "id": "77a6b3f7",
   "metadata": {},
   "outputs": [],
   "source": [
    "output_dir = \"Results/result_\" + TC + \".jpg\";\n",
    "for i in range(0, len(ans.points), 1):\n",
    "#     print(final_P.points[i]);\n",
    "    source_pix[ans.points[i][0], ans.points[i][1]] = (0, 0, 0)\n",
    "\n",
    "source_image.save(output_dir)"
   ]
  },
  {
   "cell_type": "code",
   "execution_count": null,
   "id": "8d8da726",
   "metadata": {},
   "outputs": [],
   "source": []
  },
  {
   "cell_type": "code",
   "execution_count": null,
   "id": "330d14a0",
   "metadata": {},
   "outputs": [],
   "source": []
  },
  {
   "cell_type": "code",
   "execution_count": null,
   "id": "20328be7",
   "metadata": {},
   "outputs": [],
   "source": []
  },
  {
   "cell_type": "code",
   "execution_count": null,
   "id": "494f8317",
   "metadata": {},
   "outputs": [],
   "source": []
  },
  {
   "cell_type": "code",
   "execution_count": null,
   "id": "5eb0d1f0",
   "metadata": {},
   "outputs": [],
   "source": []
  },
  {
   "cell_type": "code",
   "execution_count": null,
   "id": "d92347a5",
   "metadata": {},
   "outputs": [],
   "source": []
  }
 ],
 "metadata": {
  "kernelspec": {
   "display_name": "Python 3",
   "language": "python",
   "name": "python3"
  },
  "language_info": {
   "codemirror_mode": {
    "name": "ipython",
    "version": 3
   },
   "file_extension": ".py",
   "mimetype": "text/x-python",
   "name": "python",
   "nbconvert_exporter": "python",
   "pygments_lexer": "ipython3",
   "version": "3.8.8"
  }
 },
 "nbformat": 4,
 "nbformat_minor": 5
}
