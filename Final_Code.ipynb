{
 "cells": [
  {
   "cell_type": "code",
   "execution_count": 1,
   "id": "50b88fb6",
   "metadata": {},
   "outputs": [],
   "source": [
    "from PIL import Image;\n",
    "import numpy as np;\n",
    "import operator;\n",
    "import matplotlib.pyplot as plt;\n",
    "import random;\n",
    "import math;\n",
    "import statistics;\n",
    "import os;\n",
    "import time;\n",
    "import xlwt;\n",
    "from xlwt import Workbook;\n",
    "import openpyxl;"
   ]
  },
  {
   "cell_type": "code",
   "execution_count": 2,
   "id": "5fb01022",
   "metadata": {},
   "outputs": [],
   "source": [
    "wb = Workbook();\n",
    "sheet1 = wb.add_sheet('Sheet 1');"
   ]
  },
  {
   "cell_type": "code",
   "execution_count": 3,
   "id": "ce7b6ff0",
   "metadata": {},
   "outputs": [],
   "source": [
    "sheet1.write(0, 0, 'PAPER_ID')\n",
    "sheet1.write(0, 1, 'TC_ID')\n",
    "for i in range(1, 31, 1):\n",
    "    sheet1.write(0, 2*i, \"ITR_\"+str(i))\n",
    "    sheet1.write(0, 2*i+1, \"TIME_\"+str(i))\n",
    "    \n",
    "sheet1.write(0, 62, 'Total_Time');\n",
    "sheet1.write(0, 63, 'BEST_ITR');\n",
    "sheet1.write(0, 64, 'Max Similarity');\n",
    "sheet1.write(0, 65, 'Image_Pre_Time');\n",
    "wb.save('DOC.xls')"
   ]
  },
  {
   "cell_type": "code",
   "execution_count": null,
   "id": "a39a0c4c",
   "metadata": {},
   "outputs": [],
   "source": []
  },
  {
   "cell_type": "code",
   "execution_count": 4,
   "id": "ff1cf57d",
   "metadata": {},
   "outputs": [],
   "source": [
    "source_files = []\n",
    "source_dirs = []\n",
    "\n",
    "rootdir = 'C:/Users/parma/ML_Tutorials/Image_Similarity/Source'\n",
    "\n",
    "for subdir, dirs, files in os.walk(rootdir):\n",
    "    if(len(files) == 0): \n",
    "        for i in range(0, len(dirs), 1):\n",
    "            source_dirs.append(dirs[i]);\n",
    "        continue;\n",
    "    \n",
    "    fs = []\n",
    "    for i in range(0, len(files), 1):\n",
    "        fs.append(files[i]);\n",
    "    source_files.append(fs);"
   ]
  },
  {
   "cell_type": "code",
   "execution_count": 5,
   "id": "be13368c",
   "metadata": {},
   "outputs": [],
   "source": [
    "copy_files = []\n",
    "copy_dirs = []\n",
    "\n",
    "rootdir = 'C:/Users/parma/ML_Tutorials/Image_Similarity/Copy'\n",
    "\n",
    "for subdir, dirs, files in os.walk(rootdir):\n",
    "    if(len(files) == 0): \n",
    "        for i in range(0, len(dirs), 1):\n",
    "            copy_dirs.append(dirs[i]);\n",
    "        continue;\n",
    "    \n",
    "    fs = []\n",
    "    for i in range(0, len(files), 1):\n",
    "        fs.append(files[i]);\n",
    "    copy_files.append(fs);"
   ]
  },
  {
   "cell_type": "code",
   "execution_count": 6,
   "id": "29e841e1",
   "metadata": {},
   "outputs": [],
   "source": [
    "D = (255**2)*3;\n",
    "\n",
    "def dist(PIX_A, PIX_B):\n",
    "    d = (PIX_A[0] - PIX_B[0])**2 + (PIX_A[1] - PIX_B[1])**2 + (PIX_A[2] - PIX_B[2])**2;\n",
    "    return math.sqrt(d/D);"
   ]
  },
  {
   "cell_type": "code",
   "execution_count": 7,
   "id": "caa0a38b",
   "metadata": {},
   "outputs": [],
   "source": [
    "random.seed(0)"
   ]
  },
  {
   "cell_type": "code",
   "execution_count": null,
   "id": "7fe7ff4e",
   "metadata": {},
   "outputs": [],
   "source": []
  },
  {
   "cell_type": "code",
   "execution_count": 8,
   "id": "e36551c3",
   "metadata": {},
   "outputs": [],
   "source": [
    "# for DIR_ID in range(0, len(source_dirs), 1):\n",
    "#     for TC_ID in range(0, len(source_files[DIR_ID]), 1):\n",
    "#         print(source_dirs[DIR_ID], source_files[DIR_ID][TC_ID], end = \" ||| \")\n",
    "#         print(\"(\", copy_dirs[DIR_ID], copy_files[DIR_ID][TC_ID], \")\")"
   ]
  },
  {
   "cell_type": "code",
   "execution_count": null,
   "id": "6d41cc7e",
   "metadata": {},
   "outputs": [],
   "source": []
  },
  {
   "cell_type": "code",
   "execution_count": 9,
   "id": "c2536c73",
   "metadata": {},
   "outputs": [],
   "source": [
    "def fetch_start_points(test_image, test_pix):\n",
    "    spread = 3;\n",
    "\n",
    "    start_points = []\n",
    "\n",
    "    for i in range(0, test_image.size[0], 1):\n",
    "        for j in range(0, test_image.size[1], 1):\n",
    "            dissimilarity = 0;\n",
    "            ct = 0;\n",
    "            for k in range(i-spread, i+spread+1, 1):\n",
    "                for l in range(j-spread, j+spread+1, 1):\n",
    "                    if(k == i and j == l):\n",
    "                        continue;\n",
    "                    if(k < 0 or k >= test_image.size[0] or l < 0 or l >= test_image.size[1]):\n",
    "                        continue;\n",
    "                    dissimilarity += dist(test_pix[k, l], test_pix[i, j]);\n",
    "\n",
    "            Diss = dissimilarity;\n",
    "            Diss = round(Diss, 2)\n",
    "            start_points.append([Diss, i, j]);\n",
    "\n",
    "    start_points = sorted(start_points, key = operator.itemgetter(0));\n",
    "    start_points.reverse()\n",
    "    \n",
    "    return start_points;"
   ]
  },
  {
   "cell_type": "code",
   "execution_count": 10,
   "id": "d86edd7e",
   "metadata": {},
   "outputs": [],
   "source": [
    "def aggregate_score(scores):\n",
    "    random.shuffle(scores);\n",
    "    total_buckets = 100;\n",
    "    max_bucket_size = len(scores)/total_buckets;\n",
    "    buckets = [];\n",
    "    curr_size = 0;\n",
    "    curr_sum = 0;\n",
    "    for sc in scores:\n",
    "        curr_size += 1;\n",
    "        curr_sum += sc;\n",
    "        if(curr_size == max_bucket_size):\n",
    "            buckets.append(curr_sum/curr_size);\n",
    "            curr_sum = 0;\n",
    "            curr_size = 0;\n",
    "    if(curr_size > 0):\n",
    "        buckets.append(curr_sum/curr_size);\n",
    "    \n",
    "    return statistics.median(buckets);"
   ]
  },
  {
   "cell_type": "code",
   "execution_count": null,
   "id": "fd88eb3e",
   "metadata": {},
   "outputs": [],
   "source": []
  },
  {
   "cell_type": "code",
   "execution_count": null,
   "id": "e306217d",
   "metadata": {},
   "outputs": [],
   "source": []
  },
  {
   "cell_type": "code",
   "execution_count": 11,
   "id": "5302c925",
   "metadata": {},
   "outputs": [],
   "source": [
    "class Path:\n",
    "    def __init__(self):\n",
    "        self.points = [];\n",
    "        self.score = [];\n",
    "        self.agg_score = -1;"
   ]
  },
  {
   "cell_type": "code",
   "execution_count": 12,
   "id": "ff5bec37",
   "metadata": {},
   "outputs": [],
   "source": [
    "curr_row = 1;"
   ]
  },
  {
   "cell_type": "code",
   "execution_count": 13,
   "id": "766be4a9",
   "metadata": {},
   "outputs": [
    {
     "name": "stdout",
     "output_type": "stream",
     "text": [
      "4 1\n"
     ]
    }
   ],
   "source": [
    "for DIR_ID in range(3, len(source_dirs), 1):\n",
    "    paper_id = DIR_ID + 1;\n",
    "#     sheet1.write(curr_row, 0, paper_id);\n",
    "    \n",
    "    for TC_ID in range(0, len(source_files[DIR_ID]), 1):\n",
    "#         if(TC_ID > 0):\n",
    "#             break;\n",
    "        tc_id = TC_ID + 1;\n",
    "        print(paper_id, tc_id);\n",
    "        sheet1.write(curr_row, 1, tc_id);\n",
    "        sheet1.write(curr_row, 0, paper_id);\n",
    "        \n",
    "        SA = time.time();\n",
    "        \n",
    "        Folder = source_dirs[DIR_ID]\n",
    "        Source_File = source_files[DIR_ID][TC_ID];\n",
    "        Test_File = copy_files[DIR_ID][TC_ID];\n",
    "        \n",
    "        source_dir = \"Source/\"+Folder+\"/\"+Source_File;\n",
    "        source_image = Image.open(source_dir);\n",
    "        source_pix = source_image.load();\n",
    "        \n",
    "        test_dir = \"Copy/\"+Folder+\"/\"+Test_File;\n",
    "        test_image = Image.open(test_dir);\n",
    "        test_pix = test_image.load();\n",
    "        \n",
    "        start = time.time()\n",
    "        start_points = fetch_start_points(test_image, test_pix);\n",
    "        end = time.time()\n",
    "        \n",
    "        sheet1.write(curr_row, 65, round(end - start, 3));\n",
    "        \n",
    "        ans = Path();\n",
    "        score_on_itr = -1;\n",
    "        \n",
    "#         MAX_STEP = math.floor(min(test_image.size[0], test_image.size[1])/10);\n",
    "        MAX_STEP = math.floor((test_image.size[0] + test_image.size[1])/20);\n",
    "        \n",
    "        RANDOM_WALK_LEN = 3000;\n",
    "        \n",
    "        ITR_LIMIT = 30;\n",
    "                \n",
    "        for START in range(0, ITR_LIMIT, 1):\n",
    "#             print(\"ITR: \", START+1);\n",
    "            start = time.time();\n",
    "            \n",
    "            start_X = start_points[START][1];\n",
    "            start_Y = start_points[START][2];\n",
    "\n",
    "            v = []\n",
    "            for i in range(0, source_image.size[0], 1):\n",
    "                for j in range(0, source_image.size[1], 1):\n",
    "                    d = dist(test_pix[start_X, start_Y], source_pix[i,j]);\n",
    "                    v.append([d, i, j]);\n",
    "\n",
    "            v = sorted(v, key = operator.itemgetter(0));\n",
    "            v = v[:100]\n",
    "\n",
    "            paths = [];\n",
    "            for i in range(0, 100, 1):\n",
    "                p = Path();\n",
    "                p.points.append([v[i][1], v[i][2]]);\n",
    "                p.score.append(v[i][0]);\n",
    "                paths.append(p);\n",
    "\n",
    "            curr_X = start_X;\n",
    "            curr_Y = start_Y;\n",
    "\n",
    "            for itr in range(0, RANDOM_WALK_LEN, 1):\n",
    "                step_X = random.randint(1, MAX_STEP);\n",
    "                step_Y = random.randint(1, MAX_STEP);\n",
    "\n",
    "                off_X = random.randint(0, 1);\n",
    "                off_Y = random.randint(0, 1);\n",
    "\n",
    "                if(off_X == 0): off_X = -1;\n",
    "                if(off_Y == 0): off_Y = -1;\n",
    "\n",
    "                curr_X = curr_X + off_X * step_X;\n",
    "                curr_Y = curr_Y + off_Y * step_Y;\n",
    "\n",
    "                if(curr_X < 0 or curr_X >= test_image.size[0] or curr_Y < 0 or curr_Y >= test_image.size[1]):\n",
    "                    curr_X = curr_X - off_X * step_X;\n",
    "                    curr_Y = curr_Y - off_Y * step_Y;\n",
    "                    continue;\n",
    "\n",
    "                img_RGB = test_pix[curr_X, curr_Y];\n",
    "\n",
    "                for i in range(0, len(paths), 1):\n",
    "                    if(paths[i].score[-1] == -1):continue;\n",
    "                    last_X = paths[i].points[-1][0];\n",
    "                    last_Y = paths[i].points[-1][1];\n",
    "\n",
    "                    new_X = last_X + off_X * step_X;\n",
    "                    new_Y = last_Y + off_Y * step_Y;\n",
    "\n",
    "                    if(new_X < 0 or new_X >= source_image.size[0] or new_Y == 0 or new_Y >= source_image.size[1]):\n",
    "                        paths[i].score.append(-1);\n",
    "                        continue;\n",
    "\n",
    "                    d = dist(img_RGB, source_pix[new_X, new_Y]);\n",
    "\n",
    "                    paths[i].score.append(d);\n",
    "                    paths[i].points.append([new_X, new_Y]);\n",
    "            \n",
    "            best_itr_score = Path();\n",
    "            \n",
    "            for p in paths:\n",
    "                if(p.score[-1] == -1):\n",
    "                    continue;\n",
    "\n",
    "                p.agg_score = aggregate_score(p.score);\n",
    "                if(p.agg_score < best_itr_score.agg_score or best_itr_score.agg_score == -1):\n",
    "                    best_itr_score = p;\n",
    "                if(p.agg_score < ans.agg_score or ans.agg_score == -1):\n",
    "                    ans = p;\n",
    "                    score_on_itr = START+1;\n",
    "            \n",
    "            end = time.time();\n",
    "            sc = best_itr_score.agg_score;\n",
    "            if(sc != -1):\n",
    "                sc = 1 - sc;\n",
    "            \n",
    "            sheet1.write(curr_row, 2*(START+1), round(sc, 3));\n",
    "            sheet1.write(curr_row, 2*(START+1)+1, round(end-start, 3));\n",
    "        \n",
    "        output_dir = \"Results/\" + Folder + \"/result_\"+ Test_File;\n",
    "        for i in range(0, len(ans.points), 1):\n",
    "            source_pix[ans.points[i][0], ans.points[i][1]] = (0, 0, 0)\n",
    "\n",
    "        source_image.save(output_dir)\n",
    "        SE = time.time();\n",
    "        \n",
    "        sheet1.write(curr_row, 62, round(SE-SA, 3));\n",
    "        sheet1.write(curr_row, 63, score_on_itr);\n",
    "        sheet1.write(curr_row, 64, round(1-ans.agg_score, 3));\n",
    "        curr_row += 1;"
   ]
  },
  {
   "cell_type": "code",
   "execution_count": 14,
   "id": "34cbef4f",
   "metadata": {},
   "outputs": [],
   "source": [
    "wb.save('DOC.xls')"
   ]
  },
  {
   "cell_type": "code",
   "execution_count": null,
   "id": "9ce529cd",
   "metadata": {},
   "outputs": [],
   "source": []
  },
  {
   "cell_type": "code",
   "execution_count": 15,
   "id": "a6538bc0",
   "metadata": {},
   "outputs": [],
   "source": [
    "# TC = \"009\""
   ]
  },
  {
   "cell_type": "code",
   "execution_count": 16,
   "id": "71605947",
   "metadata": {},
   "outputs": [],
   "source": [
    "# Folder = \"002\""
   ]
  },
  {
   "cell_type": "code",
   "execution_count": 17,
   "id": "148d4e59",
   "metadata": {},
   "outputs": [],
   "source": [
    "# source_dir = \"Source/\"+Folder+\"/source_\" + TC + \".JPG\"\n",
    "# source_image = Image.open(source_dir)\n",
    "# source_pix = source_image.load()"
   ]
  },
  {
   "cell_type": "code",
   "execution_count": 18,
   "id": "74e37f67",
   "metadata": {},
   "outputs": [],
   "source": [
    "# test_dir = \"Copy/\"+Folder+\"/copy_\" + TC + \".JPG\"\n",
    "# test_image = Image.open(test_dir)\n",
    "# test_pix = test_image.load()"
   ]
  },
  {
   "cell_type": "code",
   "execution_count": 19,
   "id": "d3cfaae5",
   "metadata": {},
   "outputs": [],
   "source": [
    "# source_image.size, test_image.size"
   ]
  },
  {
   "cell_type": "code",
   "execution_count": null,
   "id": "844316d0",
   "metadata": {},
   "outputs": [],
   "source": []
  },
  {
   "cell_type": "code",
   "execution_count": 20,
   "id": "56d6e02f",
   "metadata": {},
   "outputs": [],
   "source": [
    "# spread = 5;\n",
    "\n",
    "# start_points = []\n",
    "\n",
    "# for i in range(0, test_image.size[0], 1):\n",
    "#     for j in range(0, test_image.size[1], 1):\n",
    "#         dissimilarity = 0;\n",
    "#         ct = 0;\n",
    "#         for k in range(i-spread, i+spread+1, 1):\n",
    "#             for l in range(j-spread, j+spread+1, 1):\n",
    "#                 if(k == i and j == l):\n",
    "#                     continue;\n",
    "#                 if(k < 0 or k >= test_image.size[0] or l < 0 or l >= test_image.size[1]):\n",
    "#                     continue;\n",
    "#                 dissimilarity += dist(test_pix[k, l], test_pix[i, j]);\n",
    "        \n",
    "#         Diss = dissimilarity;\n",
    "#         Diss = round(Diss, 2)\n",
    "#         start_points.append([Diss, i, j]);\n",
    "\n",
    "# start_points = sorted(start_points, key = operator.itemgetter(0));\n",
    "# start_points.reverse()"
   ]
  },
  {
   "cell_type": "code",
   "execution_count": 21,
   "id": "873c0311",
   "metadata": {},
   "outputs": [],
   "source": [
    "# start_points[0]"
   ]
  },
  {
   "cell_type": "code",
   "execution_count": 22,
   "id": "ed2fdf11",
   "metadata": {
    "scrolled": true
   },
   "outputs": [],
   "source": [
    "# len(start_points)"
   ]
  },
  {
   "cell_type": "code",
   "execution_count": 23,
   "id": "4c4fba07",
   "metadata": {},
   "outputs": [],
   "source": [
    "# LMT = 100;\n",
    "# x = np.arange(0, LMT, 1)\n",
    "# y = [];\n",
    "# for i in range(0, LMT, 1):\n",
    "#     y.append(start_points[i][0])\n",
    "# plt.plot(x, y)"
   ]
  },
  {
   "cell_type": "code",
   "execution_count": 24,
   "id": "d1ffdc81",
   "metadata": {},
   "outputs": [],
   "source": [
    "# start_points = start_points[:100]\n",
    "# len(start_points)"
   ]
  },
  {
   "cell_type": "code",
   "execution_count": 25,
   "id": "5491ce9c",
   "metadata": {},
   "outputs": [],
   "source": [
    "# fig = plt.figure(figsize = (10,10)) \n",
    "# plt.imshow( matrix , cmap = 'copper' , interpolation = 'nearest')\n",
    "# plt.show()"
   ]
  },
  {
   "cell_type": "code",
   "execution_count": 26,
   "id": "4fbb0d67",
   "metadata": {},
   "outputs": [],
   "source": [
    "# class Path:\n",
    "#     def __init__(self):\n",
    "#         self.points = [];\n",
    "#         self.score = [];\n",
    "#         self.agg_score = -1;"
   ]
  },
  {
   "cell_type": "code",
   "execution_count": 27,
   "id": "9944f439",
   "metadata": {},
   "outputs": [],
   "source": [
    "# def aggregate_score(scores):\n",
    "#     random.shuffle(scores);\n",
    "#     total_buckets = 100;\n",
    "#     max_bucket_size = len(scores)/total_buckets;\n",
    "#     buckets = [];\n",
    "#     curr_size = 0;\n",
    "#     curr_sum = 0;\n",
    "#     for sc in scores:\n",
    "#         curr_size += 1;\n",
    "#         curr_sum += sc;\n",
    "#         if(curr_size == max_bucket_size):\n",
    "#             buckets.append(curr_sum/curr_size);\n",
    "#             curr_sum = 0;\n",
    "#             curr_size = 0;\n",
    "#     if(curr_size > 0):\n",
    "#         buckets.append(curr_sum/curr_size);\n",
    "    \n",
    "#     return statistics.median(buckets);"
   ]
  },
  {
   "cell_type": "code",
   "execution_count": 28,
   "id": "a88366b8",
   "metadata": {},
   "outputs": [],
   "source": [
    "# ans = Path();"
   ]
  },
  {
   "cell_type": "code",
   "execution_count": 29,
   "id": "159dff92",
   "metadata": {},
   "outputs": [],
   "source": [
    "# MAX_STEP = math.floor(min(test_image.size[0], test_image.size[1])/10);\n",
    "# MAX_STEP = math.floor((test_image.size[0] + test_image.size[1])/20);"
   ]
  },
  {
   "cell_type": "code",
   "execution_count": 30,
   "id": "d73cc211",
   "metadata": {},
   "outputs": [],
   "source": [
    "# MAX_STEP"
   ]
  },
  {
   "cell_type": "code",
   "execution_count": 31,
   "id": "c25a671b",
   "metadata": {},
   "outputs": [],
   "source": [
    "# RANDOM_WALK_LEN = 5000;"
   ]
  },
  {
   "cell_type": "code",
   "execution_count": null,
   "id": "38466363",
   "metadata": {},
   "outputs": [],
   "source": []
  },
  {
   "cell_type": "code",
   "execution_count": 32,
   "id": "2feaa45a",
   "metadata": {},
   "outputs": [],
   "source": [
    "# ITR_LIMIT = 10;\n",
    "\n",
    "# for START in range(0, ITR_LIMIT, 1):\n",
    "#     print(\"ITR: \", START+1);\n",
    "    \n",
    "#     start_X = start_points[START][1];\n",
    "#     start_Y = start_points[START][2];\n",
    "\n",
    "#     v = []\n",
    "#     for i in range(0, source_image.size[0], 1):\n",
    "#         for j in range(0, source_image.size[1], 1):\n",
    "#             d = dist(test_pix[start_X, start_Y], source_pix[i,j]);\n",
    "#             v.append([d, i, j]);\n",
    "\n",
    "#     v = sorted(v, key = operator.itemgetter(0));\n",
    "#     v = v[:100]\n",
    "    \n",
    "#     paths = [];\n",
    "#     for i in range(0, 100, 1):\n",
    "#         p = Path();\n",
    "#         p.points.append([v[i][1], v[i][2]]);\n",
    "#         p.score.append(v[i][0]);\n",
    "#         paths.append(p);\n",
    "    \n",
    "#     curr_X = start_X;\n",
    "#     curr_Y = start_Y;\n",
    "\n",
    "#     for itr in range(0, RANDOM_WALK_LEN, 1):\n",
    "#         step_X = random.randint(1, MAX_STEP);\n",
    "#         step_Y = random.randint(1, MAX_STEP);\n",
    "        \n",
    "#         off_X = random.randint(0, 1);\n",
    "#         off_Y = random.randint(0, 1);\n",
    "\n",
    "#         if(off_X == 0): off_X = -1;\n",
    "#         if(off_Y == 0): off_Y = -1;\n",
    "\n",
    "#         curr_X = curr_X + off_X * step_X;\n",
    "#         curr_Y = curr_Y + off_Y * step_Y;\n",
    "\n",
    "#         if(curr_X < 0 or curr_X >= test_image.size[0] or curr_Y < 0 or curr_Y >= test_image.size[1]):\n",
    "#             curr_X = curr_X - off_X * step_X;\n",
    "#             curr_Y = curr_Y - off_Y * step_Y;\n",
    "#             continue;\n",
    "\n",
    "#         img_RGB = test_pix[curr_X, curr_Y];\n",
    "\n",
    "#         for i in range(0, len(paths), 1):\n",
    "#             if(paths[i].score[-1] == -1):continue;\n",
    "#             last_X = paths[i].points[-1][0];\n",
    "#             last_Y = paths[i].points[-1][1];\n",
    "\n",
    "#             new_X = last_X + off_X * step_X;\n",
    "#             new_Y = last_Y + off_Y * step_Y;\n",
    "\n",
    "#             if(new_X < 0 or new_X >= source_image.size[0] or new_Y == 0 or new_Y >= source_image.size[1]):\n",
    "#                 paths[i].score.append(-1);\n",
    "#                 continue;\n",
    "\n",
    "#             d = dist(img_RGB, source_pix[new_X, new_Y]);\n",
    "\n",
    "#             paths[i].score.append(d);\n",
    "#             paths[i].points.append([new_X, new_Y]);\n",
    "        \n",
    "#     final_P = Path();\n",
    "#     for p in paths:\n",
    "#         if(p.score[-1] == -1):\n",
    "#             continue;\n",
    "\n",
    "#         p.agg_score = aggregate_score(p.score);\n",
    "#         if(p.agg_score < final_P.agg_score or final_P.agg_score == -1):\n",
    "#             final_P = p;\n",
    "\n",
    "#     if(final_P.agg_score == -1):\n",
    "#         continue;\n",
    "\n",
    "#     if(final_P.agg_score < ans.agg_score or ans.agg_score == -1):\n",
    "#         ans = final_P;"
   ]
  },
  {
   "cell_type": "code",
   "execution_count": null,
   "id": "810cd80c",
   "metadata": {},
   "outputs": [],
   "source": []
  },
  {
   "cell_type": "code",
   "execution_count": null,
   "id": "8e7ae3a8",
   "metadata": {},
   "outputs": [],
   "source": []
  },
  {
   "cell_type": "code",
   "execution_count": null,
   "id": "6e917d6c",
   "metadata": {},
   "outputs": [],
   "source": []
  },
  {
   "cell_type": "code",
   "execution_count": 33,
   "id": "12f62bbd",
   "metadata": {
    "scrolled": true
   },
   "outputs": [],
   "source": [
    "# LMT = 100;\n",
    "# x = np.arange(0, LMT, 1)\n",
    "# y = [];\n",
    "# for i in range(0, LMT, 1):\n",
    "#     y.append(v[i][0])\n",
    "# plt.plot(x, y)"
   ]
  },
  {
   "cell_type": "code",
   "execution_count": null,
   "id": "832b8aae",
   "metadata": {},
   "outputs": [],
   "source": []
  },
  {
   "cell_type": "code",
   "execution_count": null,
   "id": "1e1603ce",
   "metadata": {},
   "outputs": [],
   "source": []
  },
  {
   "cell_type": "code",
   "execution_count": null,
   "id": "931635f1",
   "metadata": {},
   "outputs": [],
   "source": []
  },
  {
   "cell_type": "code",
   "execution_count": 34,
   "id": "695b6ad1",
   "metadata": {},
   "outputs": [],
   "source": [
    "# output_dir = \"New_Results/\" + Folder + \"/result_\"+ TC + \".jpg\";\n",
    "# for i in range(0, len(ans.points), 1):\n",
    "# #     print(final_P.points[i]);\n",
    "#     source_pix[ans.points[i][0], ans.points[i][1]] = (0, 0, 0)\n",
    "\n",
    "# source_image.save(output_dir)"
   ]
  },
  {
   "cell_type": "code",
   "execution_count": 35,
   "id": "743a57c9",
   "metadata": {},
   "outputs": [],
   "source": [
    "# ans.agg_score"
   ]
  },
  {
   "cell_type": "code",
   "execution_count": 36,
   "id": "a9f20be0",
   "metadata": {},
   "outputs": [],
   "source": [
    "# 1 - ans.agg_score"
   ]
  },
  {
   "cell_type": "code",
   "execution_count": null,
   "id": "79b2e6d9",
   "metadata": {},
   "outputs": [],
   "source": []
  },
  {
   "cell_type": "code",
   "execution_count": null,
   "id": "9d8f7212",
   "metadata": {},
   "outputs": [],
   "source": []
  },
  {
   "cell_type": "code",
   "execution_count": null,
   "id": "2a4d4c75",
   "metadata": {},
   "outputs": [],
   "source": []
  },
  {
   "cell_type": "code",
   "execution_count": null,
   "id": "5ae495b2",
   "metadata": {},
   "outputs": [],
   "source": []
  },
  {
   "cell_type": "code",
   "execution_count": null,
   "id": "330d14a0",
   "metadata": {},
   "outputs": [],
   "source": []
  },
  {
   "cell_type": "code",
   "execution_count": null,
   "id": "20328be7",
   "metadata": {},
   "outputs": [],
   "source": []
  },
  {
   "cell_type": "code",
   "execution_count": null,
   "id": "494f8317",
   "metadata": {},
   "outputs": [],
   "source": []
  },
  {
   "cell_type": "code",
   "execution_count": null,
   "id": "5eb0d1f0",
   "metadata": {},
   "outputs": [],
   "source": []
  },
  {
   "cell_type": "code",
   "execution_count": null,
   "id": "d92347a5",
   "metadata": {},
   "outputs": [],
   "source": []
  }
 ],
 "metadata": {
  "kernelspec": {
   "display_name": "Python 3",
   "language": "python",
   "name": "python3"
  },
  "language_info": {
   "codemirror_mode": {
    "name": "ipython",
    "version": 3
   },
   "file_extension": ".py",
   "mimetype": "text/x-python",
   "name": "python",
   "nbconvert_exporter": "python",
   "pygments_lexer": "ipython3",
   "version": "3.8.8"
  }
 },
 "nbformat": 4,
 "nbformat_minor": 5
}
