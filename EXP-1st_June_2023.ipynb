{
 "cells": [
  {
   "cell_type": "code",
   "execution_count": 1,
   "id": "50b88fb6",
   "metadata": {},
   "outputs": [],
   "source": [
    "from PIL import Image;\n",
    "import numpy as np;\n",
    "import operator\n",
    "import matplotlib.pyplot as plt;\n",
    "import random;\n",
    "import math;\n",
    "import statistics\n",
    "from sklearn.neighbors import KDTree"
   ]
  },
  {
   "cell_type": "code",
   "execution_count": 2,
   "id": "29e841e1",
   "metadata": {},
   "outputs": [],
   "source": [
    "D = (255**2)*3;\n",
    "\n",
    "def dist(PIX_A, PIX_B):\n",
    "    d = (PIX_A[0] - PIX_B[0])**2 + (PIX_A[1] - PIX_B[1])**2 + (PIX_A[2] - PIX_B[2])**2;\n",
    "    return math.sqrt(d/D);"
   ]
  },
  {
   "cell_type": "code",
   "execution_count": 3,
   "id": "a6538bc0",
   "metadata": {},
   "outputs": [],
   "source": [
    "TC = \"005\""
   ]
  },
  {
   "cell_type": "code",
   "execution_count": 4,
   "id": "148d4e59",
   "metadata": {},
   "outputs": [],
   "source": [
    "source_dir = \"Source_Images/source_\" + TC + \".JPG\"\n",
    "source_image = Image.open(source_dir)\n",
    "source_pix = source_image.load()"
   ]
  },
  {
   "cell_type": "code",
   "execution_count": 5,
   "id": "74e37f67",
   "metadata": {},
   "outputs": [],
   "source": [
    "test_dir = \"Copied_Images/copy_\" + TC + \".JPG\"\n",
    "test_image = Image.open(test_dir)\n",
    "test_pix = test_image.load()"
   ]
  },
  {
   "cell_type": "code",
   "execution_count": 6,
   "id": "d3cfaae5",
   "metadata": {},
   "outputs": [
    {
     "data": {
      "text/plain": [
       "((1591, 865), (384, 269))"
      ]
     },
     "execution_count": 6,
     "metadata": {},
     "output_type": "execute_result"
    }
   ],
   "source": [
    "source_image.size, test_image.size"
   ]
  },
  {
   "cell_type": "code",
   "execution_count": null,
   "id": "844316d0",
   "metadata": {},
   "outputs": [],
   "source": []
  },
  {
   "cell_type": "code",
   "execution_count": 7,
   "id": "56d6e02f",
   "metadata": {},
   "outputs": [],
   "source": [
    "spread = 3;\n",
    "\n",
    "# matrix = np.zeros((test_image.size[0], test_image.size[1]))\n",
    "start_points = []\n",
    "\n",
    "for i in range(0, test_image.size[0], 1):\n",
    "    for j in range(0, test_image.size[1], 1):\n",
    "        dissimilarity = 0;\n",
    "        ct = 0;\n",
    "        for k in range(i-spread, i+spread+1, 1):\n",
    "            for l in range(j-spread, j+spread+1, 1):\n",
    "                if(k == i and j == l):\n",
    "                    continue;\n",
    "                if(k < 0 or k >= test_image.size[0] or l < 0 or l >= test_image.size[1]):\n",
    "                    continue;\n",
    "                dissimilarity += dist(test_pix[k, l], test_pix[i, j]);\n",
    "        \n",
    "#         Diss = dissimilarity/ct;\n",
    "#         matrix[i][j] = dissimilarity * statistics.variance(test_pix[i, j]);\n",
    "        Diss = dissimilarity * statistics.variance(test_pix[i, j]);\n",
    "        Diss = round(Diss, 2)\n",
    "        start_points.append([Diss, i, j]);\n",
    "\n",
    "start_points = sorted(start_points, key = operator.itemgetter(0));\n",
    "start_points.reverse()"
   ]
  },
  {
   "cell_type": "code",
   "execution_count": 8,
   "id": "88ef7c25",
   "metadata": {},
   "outputs": [],
   "source": [
    "spread = 2;\n",
    "\n",
    "# matrix = np.zeros((test_image.size[0], test_image.size[1]))\n",
    "source_points = []\n",
    "\n",
    "for i in range(0, source_image.size[0], 1):\n",
    "    for j in range(0, source_image.size[1], 1):\n",
    "        dissimilarity = 0;\n",
    "        ct = 0;\n",
    "        for k in range(i-spread, i+spread+1, 1):\n",
    "            for l in range(j-spread, j+spread+1, 1):\n",
    "                if(k == i and j == l):\n",
    "                    continue;\n",
    "                if(k < 0 or k >= source_image.size[0] or l < 0 or l >= source_image.size[1]):\n",
    "                    continue;\n",
    "                dissimilarity += dist(source_pix[k, l], source_pix[i, j]);\n",
    "        \n",
    "#         Diss = dissimilarity/ct;\n",
    "#         matrix[i][j] = dissimilarity * statistics.variance(test_pix[i, j]);\n",
    "        Diss = dissimilarity * statistics.variance(source_pix[i, j]);\n",
    "        Diss = round(Diss, 2)\n",
    "        source_points.append([Diss, i, j]);\n",
    "\n",
    "source_points = sorted(source_points, key = operator.itemgetter(0));\n",
    "source_points.reverse()"
   ]
  },
  {
   "cell_type": "code",
   "execution_count": null,
   "id": "96998327",
   "metadata": {},
   "outputs": [],
   "source": []
  },
  {
   "cell_type": "code",
   "execution_count": null,
   "id": "c2a9d49b",
   "metadata": {},
   "outputs": [],
   "source": []
  },
  {
   "cell_type": "code",
   "execution_count": 9,
   "id": "873c0311",
   "metadata": {},
   "outputs": [
    {
     "data": {
      "text/plain": [
       "([108003.72, 244, 152], [98207.74, 127, 16])"
      ]
     },
     "execution_count": 9,
     "metadata": {},
     "output_type": "execute_result"
    }
   ],
   "source": [
    "start_points[0], source_points[0]"
   ]
  },
  {
   "cell_type": "code",
   "execution_count": 10,
   "id": "ed2fdf11",
   "metadata": {
    "scrolled": true
   },
   "outputs": [
    {
     "data": {
      "text/plain": [
       "(103296, 1376215)"
      ]
     },
     "execution_count": 10,
     "metadata": {},
     "output_type": "execute_result"
    }
   ],
   "source": [
    "len(start_points), len(source_points)"
   ]
  },
  {
   "cell_type": "code",
   "execution_count": null,
   "id": "4c4fba07",
   "metadata": {},
   "outputs": [],
   "source": []
  },
  {
   "cell_type": "code",
   "execution_count": null,
   "id": "d1ffdc81",
   "metadata": {},
   "outputs": [],
   "source": []
  },
  {
   "cell_type": "code",
   "execution_count": null,
   "id": "5491ce9c",
   "metadata": {},
   "outputs": [],
   "source": []
  },
  {
   "cell_type": "code",
   "execution_count": 11,
   "id": "4fbb0d67",
   "metadata": {},
   "outputs": [],
   "source": [
    "class Path:\n",
    "    def __init__(self):\n",
    "        self.points = [];\n",
    "        self.score = [];\n",
    "        self.agg_score = -1;"
   ]
  },
  {
   "cell_type": "code",
   "execution_count": 12,
   "id": "9944f439",
   "metadata": {},
   "outputs": [],
   "source": [
    "def aggregate_score(scores):\n",
    "    random.shuffle(scores);\n",
    "    total_buckets = 100;\n",
    "    max_bucket_size = len(scores)/total_buckets;\n",
    "    buckets = [];\n",
    "    curr_size = 0;\n",
    "    curr_sum = 0;\n",
    "    for sc in scores:\n",
    "        curr_size += 1;\n",
    "        curr_sum += sc;\n",
    "        if(curr_size == max_bucket_size):\n",
    "            buckets.append(curr_sum/curr_size);\n",
    "            curr_sum = 0;\n",
    "            curr_size = 0;\n",
    "    if(curr_size > 0):\n",
    "        buckets.append(curr_sum/curr_size);\n",
    "    \n",
    "    return statistics.median(buckets);"
   ]
  },
  {
   "cell_type": "code",
   "execution_count": 13,
   "id": "a88366b8",
   "metadata": {},
   "outputs": [],
   "source": [
    "ans = Path();\n",
    "ans.agg_score = -1;"
   ]
  },
  {
   "cell_type": "code",
   "execution_count": 14,
   "id": "159dff92",
   "metadata": {},
   "outputs": [],
   "source": [
    "MAX_STEP = 10;\n",
    "MAX_STEP = math.floor(min(test_image.size[0], test_image.size[1])/10);"
   ]
  },
  {
   "cell_type": "code",
   "execution_count": 15,
   "id": "c25a671b",
   "metadata": {},
   "outputs": [],
   "source": []
  },
  {
   "cell_type": "code",
   "execution_count": 16,
   "id": "38466363",
   "metadata": {},
   "outputs": [
    {
     "data": {
      "text/plain": [
       "26"
      ]
     },
     "execution_count": 16,
     "metadata": {},
     "output_type": "execute_result"
    }
   ],
   "source": [
    "MAX_STEP"
   ]
  },
  {
   "cell_type": "code",
   "execution_count": null,
   "id": "83619868",
   "metadata": {},
   "outputs": [],
   "source": []
  },
  {
   "cell_type": "code",
   "execution_count": 17,
   "id": "1c373cb0",
   "metadata": {},
   "outputs": [],
   "source": [
    "source_points_rgb = [];\n",
    "for i in range(0, len(source_points), 1):\n",
    "    X = source_points[i][1];\n",
    "    Y = source_points[i][2];\n",
    "    source_points_rgb.append(list(source_pix[X, Y]));"
   ]
  },
  {
   "cell_type": "code",
   "execution_count": null,
   "id": "84458f91",
   "metadata": {},
   "outputs": [],
   "source": []
  },
  {
   "cell_type": "code",
   "execution_count": 18,
   "id": "10444aea",
   "metadata": {
    "scrolled": true
   },
   "outputs": [
    {
     "data": {
      "text/plain": [
       "([186, 89, 46], 1376215, 1376215)"
      ]
     },
     "execution_count": 18,
     "metadata": {},
     "output_type": "execute_result"
    }
   ],
   "source": [
    "source_points_rgb[15] ,len(source_points_rgb), len(source_points)"
   ]
  },
  {
   "cell_type": "code",
   "execution_count": 19,
   "id": "094ebaee",
   "metadata": {},
   "outputs": [
    {
     "data": {
      "text/plain": [
       "[98207.74, 127, 16]"
      ]
     },
     "execution_count": 19,
     "metadata": {},
     "output_type": "execute_result"
    }
   ],
   "source": [
    "source_points[0]"
   ]
  },
  {
   "cell_type": "code",
   "execution_count": 20,
   "id": "37b60554",
   "metadata": {},
   "outputs": [],
   "source": [
    "pts_under_consideration = math.floor(len(source_points)*30/100)\n",
    "source_points_rgb = source_points_rgb[:pts_under_consideration]\n",
    "source_points = source_points[:pts_under_consideration]"
   ]
  },
  {
   "cell_type": "code",
   "execution_count": 21,
   "id": "d35a4acf",
   "metadata": {},
   "outputs": [
    {
     "data": {
      "text/plain": [
       "(412864, 412864)"
      ]
     },
     "execution_count": 21,
     "metadata": {},
     "output_type": "execute_result"
    }
   ],
   "source": [
    "len(source_points_rgb), len(source_points)"
   ]
  },
  {
   "cell_type": "code",
   "execution_count": null,
   "id": "147c1798",
   "metadata": {},
   "outputs": [],
   "source": []
  },
  {
   "cell_type": "code",
   "execution_count": 22,
   "id": "167e52ff",
   "metadata": {},
   "outputs": [],
   "source": [
    "tree = KDTree(source_points_rgb, leaf_size = 3, metric = 'euclidean')"
   ]
  },
  {
   "cell_type": "code",
   "execution_count": null,
   "id": "c710b31f",
   "metadata": {},
   "outputs": [],
   "source": []
  },
  {
   "cell_type": "code",
   "execution_count": 23,
   "id": "d2b8ed25",
   "metadata": {
    "scrolled": true
   },
   "outputs": [
    {
     "data": {
      "text/plain": [
       "(array([[2647, 2740, 3226, 3397, 4332]], dtype=int64),\n",
       " array([[6.30926438, 6.9514615 , 6.99119568, 8.74636021, 9.9132647 ]]))"
      ]
     },
     "execution_count": 23,
     "metadata": {},
     "output_type": "execute_result"
    }
   ],
   "source": [
    "di, ind = tree.query([[137.653, 86.462, 89.342]], k = 5)\n",
    "ind.sort();\n",
    "di.sort();\n",
    "\n",
    "ind, di"
   ]
  },
  {
   "cell_type": "code",
   "execution_count": null,
   "id": "d67f18a5",
   "metadata": {},
   "outputs": [],
   "source": []
  },
  {
   "cell_type": "code",
   "execution_count": 32,
   "id": "b8142f3a",
   "metadata": {},
   "outputs": [],
   "source": [
    "RANDOM_WALK_LEN = 500;"
   ]
  },
  {
   "cell_type": "code",
   "execution_count": 33,
   "id": "2feaa45a",
   "metadata": {},
   "outputs": [
    {
     "name": "stdout",
     "output_type": "stream",
     "text": [
      "ITR:  1\n",
      "ITR:  2\n",
      "ITR:  3\n",
      "ITR:  4\n",
      "ITR:  5\n",
      "ITR:  6\n",
      "ITR:  7\n",
      "ITR:  8\n",
      "ITR:  9\n",
      "ITR:  10\n"
     ]
    }
   ],
   "source": [
    "ITR_LIMIT = 10;\n",
    "\n",
    "for START in range(0, ITR_LIMIT, 1):\n",
    "    print(\"ITR: \", START+1);\n",
    "    \n",
    "    start_X = start_points[START][1];\n",
    "    start_Y = start_points[START][2];\n",
    "#     print(start_X, start_Y)\n",
    "    \n",
    "    v = []\n",
    "#     for i in range(0, source_image.size[0], 1):\n",
    "#         for j in range(0, source_image.size[1], 1):\n",
    "#             d = dist(test_pix[start_X, start_Y], source_pix[i,j]);\n",
    "#             v.append([d, i, j]);\n",
    "    \n",
    "    S_RGB = list(source_pix[start_X, start_Y]);\n",
    "    \n",
    "    ds, ind = tree.query([S_RGB], k = 10000);\n",
    "    for i in range(0, len(ind[0]), 1):\n",
    "        X = source_points[ind[0][i]][1];\n",
    "        Y = source_points[ind[0][i]][2];\n",
    "        d = dist(test_pix[start_X, start_Y], source_pix[X,Y])\n",
    "        v.append([d, X, Y]);\n",
    "    \n",
    "    v = sorted(v, key = operator.itemgetter(0));\n",
    "    \n",
    "    paths = [];\n",
    "    for i in range(0, len(v), 1):\n",
    "        p = Path();\n",
    "        p.points.append([v[i][1], v[i][2]]);\n",
    "        p.score.append(v[i][0]);\n",
    "        paths.append(p);\n",
    "    \n",
    "    curr_X = start_X;\n",
    "    curr_Y = start_Y;\n",
    "\n",
    "    for itr in range(0, RANDOM_WALK_LEN, 1):\n",
    "        step_X = random.randint(1, MAX_STEP);\n",
    "        step_Y = random.randint(1, MAX_STEP);\n",
    "        \n",
    "        off_X = random.randint(0, 1);\n",
    "        off_Y = random.randint(0, 1);\n",
    "\n",
    "        if(off_X == 0): off_X = -1;\n",
    "        if(off_Y == 0): off_Y = -1;\n",
    "\n",
    "        curr_X = curr_X + off_X * step_X;\n",
    "        curr_Y = curr_Y + off_Y * step_Y;\n",
    "\n",
    "        if(curr_X < 0 or curr_X >= test_image.size[0] or curr_Y < 0 or curr_Y >= test_image.size[1]):\n",
    "            curr_X = curr_X - off_X * step_X;\n",
    "            curr_Y = curr_Y - off_Y * step_Y;\n",
    "            continue;\n",
    "\n",
    "        img_RGB = test_pix[curr_X, curr_Y];\n",
    "\n",
    "        for i in range(0, len(paths), 1):\n",
    "            if(paths[i].score[-1] == -1):continue;\n",
    "            last_X = paths[i].points[-1][0];\n",
    "            last_Y = paths[i].points[-1][1];\n",
    "\n",
    "            new_X = last_X + off_X * step_X;\n",
    "            new_Y = last_Y + off_Y * step_Y;\n",
    "\n",
    "            if(new_X < 0 or new_X >= source_image.size[0] or new_Y == 0 or new_Y >= source_image.size[1]):\n",
    "                paths[i].score.append(-1);\n",
    "                continue;\n",
    "\n",
    "            d = dist(img_RGB, source_pix[new_X, new_Y]);\n",
    "\n",
    "            paths[i].score.append(d);\n",
    "            paths[i].points.append([new_X, new_Y]);\n",
    "        \n",
    "    final_P = Path();\n",
    "    for p in paths:\n",
    "        if(p.score[-1] == -1):\n",
    "            continue;\n",
    "\n",
    "        p.agg_score = aggregate_score(p.score);\n",
    "        if(p.agg_score < final_P.agg_score or final_P.agg_score == -1):\n",
    "            final_P = p;\n",
    "\n",
    "    if(final_P.agg_score == -1):\n",
    "        continue;\n",
    "\n",
    "    if(final_P.agg_score < ans.agg_score or ans.agg_score == -1):\n",
    "        ans = final_P;"
   ]
  },
  {
   "cell_type": "code",
   "execution_count": null,
   "id": "810cd80c",
   "metadata": {},
   "outputs": [],
   "source": []
  },
  {
   "cell_type": "code",
   "execution_count": 34,
   "id": "743a57c9",
   "metadata": {},
   "outputs": [
    {
     "data": {
      "text/plain": [
       "0.035439809353896304"
      ]
     },
     "execution_count": 34,
     "metadata": {},
     "output_type": "execute_result"
    }
   ],
   "source": [
    "ans.agg_score"
   ]
  },
  {
   "cell_type": "code",
   "execution_count": 35,
   "id": "a9f20be0",
   "metadata": {},
   "outputs": [
    {
     "data": {
      "text/plain": [
       "0.9645601906461037"
      ]
     },
     "execution_count": 35,
     "metadata": {},
     "output_type": "execute_result"
    }
   ],
   "source": [
    "1 - ans.agg_score"
   ]
  },
  {
   "cell_type": "code",
   "execution_count": 36,
   "id": "79b2e6d9",
   "metadata": {},
   "outputs": [],
   "source": [
    "output_dir = \"Results/result_\" + TC + \".jpg\";\n",
    "for i in range(0, len(ans.points), 1):\n",
    "#     print(final_P.points[i]);\n",
    "    source_pix[ans.points[i][0], ans.points[i][1]] = (0, 0, 0)\n",
    "\n",
    "source_image.save(output_dir)"
   ]
  },
  {
   "cell_type": "code",
   "execution_count": null,
   "id": "9d8f7212",
   "metadata": {},
   "outputs": [],
   "source": []
  },
  {
   "cell_type": "code",
   "execution_count": null,
   "id": "494f8317",
   "metadata": {},
   "outputs": [],
   "source": []
  },
  {
   "cell_type": "code",
   "execution_count": null,
   "id": "5eb0d1f0",
   "metadata": {},
   "outputs": [],
   "source": []
  },
  {
   "cell_type": "code",
   "execution_count": null,
   "id": "d92347a5",
   "metadata": {},
   "outputs": [],
   "source": []
  },
  {
   "cell_type": "code",
   "execution_count": null,
   "id": "d04d4f6b",
   "metadata": {},
   "outputs": [],
   "source": []
  },
  {
   "cell_type": "code",
   "execution_count": null,
   "id": "e17f219e",
   "metadata": {},
   "outputs": [],
   "source": [
    "\n"
   ]
  }
 ],
 "metadata": {
  "kernelspec": {
   "display_name": "Python 3",
   "language": "python",
   "name": "python3"
  },
  "language_info": {
   "codemirror_mode": {
    "name": "ipython",
    "version": 3
   },
   "file_extension": ".py",
   "mimetype": "text/x-python",
   "name": "python",
   "nbconvert_exporter": "python",
   "pygments_lexer": "ipython3",
   "version": "3.8.8"
  }
 },
 "nbformat": 4,
 "nbformat_minor": 5
}
